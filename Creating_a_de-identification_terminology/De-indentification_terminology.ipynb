{
 "cells": [
  {
   "cell_type": "code",
   "execution_count": 1,
   "metadata": {},
   "outputs": [],
   "source": [
    "import pandas as pd"
   ]
  },
  {
   "cell_type": "code",
   "execution_count": 13,
   "metadata": {},
   "outputs": [],
   "source": [
    "term_dict = {\n",
    "    \"name\" : [\"fore_name\", \"surname\"],\n",
    "    \"contact_details\": [{\"address_line\": [\"address\", \"postcode\"],\n",
    "                         \"telephone_number\": [\"phone_number\"],\n",
    "                         \"email_address\": [\"email\"],\n",
    "                         \"identification\": [\"passport_number\", \"driving_licence_number\"]}\n",
    "                        ],\n",
    "    \"healthcare_identifier\": [\"NHS_number\", \"hospital_number\", \"Emergency_department_number\"],\n",
    "    \"date\": [{\"date of birth\": [\"day\", \"month\", \"year\"]}],\n",
    "    }\n"
   ]
  },
  {
   "cell_type": "code",
   "execution_count": 11,
   "metadata": {},
   "outputs": [
    {
     "name": "stdout",
     "output_type": "stream",
     "text": [
      "dict_keys(['name', 'contact_details', 'healthcare_identifier', 'date'])\n"
     ]
    }
   ],
   "source": [
    "print(term_dict.keys())\n"
   ]
  },
  {
   "cell_type": "code",
   "execution_count": 14,
   "metadata": {},
   "outputs": [
    {
     "name": "stdout",
     "output_type": "stream",
     "text": [
      "[{'address_line': ['address', 'postcode'], 'telephone_number': ['phone_number'], 'email_address': ['email'], 'identification': ['passport_number', 'driving_licence_number']}]\n"
     ]
    }
   ],
   "source": [
    "print(term_dict['contact_details'])\n"
   ]
  },
  {
   "cell_type": "code",
   "execution_count": null,
   "metadata": {},
   "outputs": [],
   "source": [
    "# Meta_annotations will hold the contextual information of the concept.\n",
    "\"Subject\": [\"patient\", \"family\", \"clinician\"]\n"
   ]
  }
 ],
 "metadata": {
  "kernelspec": {
   "display_name": "Python 3",
   "language": "python",
   "name": "python3"
  },
  "language_info": {
   "codemirror_mode": {
    "name": "ipython",
    "version": 3
   },
   "file_extension": ".py",
   "mimetype": "text/x-python",
   "name": "python",
   "nbconvert_exporter": "python",
   "pygments_lexer": "ipython3",
   "version": "3.8.2"
  }
 },
 "nbformat": 4,
 "nbformat_minor": 1
}
