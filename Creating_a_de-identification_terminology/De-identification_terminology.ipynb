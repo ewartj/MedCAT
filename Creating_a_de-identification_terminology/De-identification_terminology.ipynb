{
 "cells": [
  {
   "cell_type": "code",
   "execution_count": 19,
   "metadata": {},
   "outputs": [],
   "source": [
    "import pandas as pd\n",
    "import networkx as nx\n",
    "import matplotlib.pyplot as plt\n",
    "import json\n",
    "\n",
    "import os"
   ]
  },
  {
   "cell_type": "markdown",
   "metadata": {},
   "source": [
    "The 18 identifiers that make health information PHI are:\n",
    "\n",
    " - Names\n",
    " - Dates, except year\n",
    " - Telephone numbers\n",
    " - Geographic data\n",
    " - FAX numbers\n",
    " - Social Security numbers\n",
    " - Email addresses\n",
    " - Medical record numbers\n",
    " - Account numbers\n",
    " - Health plan beneficiary numbers\n",
    " - Certificate/license numbers\n",
    " - Vehicle identifiers and serial numbers including license plates\n",
    " - Web URLs\n",
    " - Device identifiers and serial numbers\n",
    " - Internet protocol addresses\n",
    " - Full face photos and comparable images\n",
    " - Biometric identifiers (i.e. retinal scan, fingerprints)\n",
    " - Any unique identifying number or code"
   ]
  },
  {
   "cell_type": "code",
   "execution_count": 23,
   "metadata": {},
   "outputs": [],
   "source": [
    "deid_dict = {\n",
    "    \"de-identification_root_concept\": [\"name\", \"contact_details\", \"healthcare_identifier\", \"date\"],\n",
    "    \"name\": [\"fore_name\", \"surname\"],\n",
    "    \"contact_details\": [\"address\", \"telephone_number\", \"email\", \"identification\"],\n",
    "    \"address\": [\"address_line\", \"postcode\"],\n",
    "    \"identification\": [\"passport_number\", \"driving_licence_number\"],\n",
    "    \"healthcare_identifier\": [\"nhs_number\", \"hospital_number\", \"emergency_department_number\"],\n",
    "    \"date\": [\"date_of_birth\"],\n",
    "    \"website\" : [\"URL\"]\n",
    "    }\n"
   ]
  },
  {
   "cell_type": "code",
   "execution_count": 24,
   "metadata": {},
   "outputs": [
    {
     "output_type": "stream",
     "name": "stdout",
     "text": [
      "dict_keys(['de-identification_root_concept', 'name', 'contact_details', 'address', 'identification', 'healthcare_identifier', 'date', 'website'])\n"
     ]
    }
   ],
   "source": [
    "print(deid_dict.keys())\n"
   ]
  },
  {
   "cell_type": "markdown",
   "metadata": {},
   "source": [
    "#### Meta_annotations will hold the contextual information of the concept.\n",
    "\"Subject\": [\"patient\", \"family\", \"clinician\"] (unselected meta_ann will mean \"other/ N/A\")\n"
   ]
  },
  {
   "cell_type": "code",
   "execution_count": 25,
   "metadata": {},
   "outputs": [
    {
     "output_type": "stream",
     "name": "stdout",
     "text": [
      "/home/jonnysheldon/Documents/MedCAT/Creating_a_de-identification_terminology\n"
     ]
    },
    {
     "output_type": "error",
     "ename": "NameError",
     "evalue": "name 'df' is not defined",
     "traceback": [
      "\u001b[0;31m---------------------------------------------------------------------------\u001b[0m",
      "\u001b[0;31mNameError\u001b[0m                                 Traceback (most recent call last)",
      "\u001b[0;32m<ipython-input-25-e8c884d75e95>\u001b[0m in \u001b[0;36m<module>\u001b[0;34m\u001b[0m\n\u001b[1;32m      3\u001b[0m \u001b[0mprint\u001b[0m\u001b[0;34m(\u001b[0m\u001b[0mos\u001b[0m\u001b[0;34m.\u001b[0m\u001b[0mgetcwd\u001b[0m\u001b[0;34m(\u001b[0m\u001b[0;34m)\u001b[0m\u001b[0;34m)\u001b[0m\u001b[0;34m\u001b[0m\u001b[0;34m\u001b[0m\u001b[0m\n\u001b[1;32m      4\u001b[0m \u001b[0mdf_diagram\u001b[0m \u001b[0;34m=\u001b[0m \u001b[0mpd\u001b[0m\u001b[0;34m.\u001b[0m\u001b[0mread_csv\u001b[0m\u001b[0;34m(\u001b[0m\u001b[0;34m\"cbd_diagram.csv\"\u001b[0m\u001b[0;34m)\u001b[0m\u001b[0;34m\u001b[0m\u001b[0;34m\u001b[0m\u001b[0m\n\u001b[0;32m----> 5\u001b[0;31m \u001b[0mprint\u001b[0m\u001b[0;34m(\u001b[0m\u001b[0mdf\u001b[0m\u001b[0;34m)\u001b[0m\u001b[0;34m\u001b[0m\u001b[0;34m\u001b[0m\u001b[0m\n\u001b[0m\u001b[1;32m      6\u001b[0m \u001b[0;31m# Build your graph\u001b[0m\u001b[0;34m\u001b[0m\u001b[0;34m\u001b[0m\u001b[0;34m\u001b[0m\u001b[0m\n\u001b[1;32m      7\u001b[0m \u001b[0mG\u001b[0m\u001b[0;34m=\u001b[0m\u001b[0mnx\u001b[0m\u001b[0;34m.\u001b[0m\u001b[0mfrom_pandas_edgelist\u001b[0m\u001b[0;34m(\u001b[0m\u001b[0mdf_diagram\u001b[0m\u001b[0;34m,\u001b[0m \u001b[0;34m'from'\u001b[0m\u001b[0;34m,\u001b[0m \u001b[0;34m'to'\u001b[0m\u001b[0;34m)\u001b[0m\u001b[0;31m#, edge_attr=True)\u001b[0m\u001b[0;34m\u001b[0m\u001b[0;34m\u001b[0m\u001b[0m\n",
      "\u001b[0;31mNameError\u001b[0m: name 'df' is not defined"
     ]
    }
   ],
   "source": [
    "# TODO: visualise the terminology hierarchy\n",
    "# https://python-graph-gallery.com/321-custom-networkx-graph-appearance/\n",
    "print(os.getcwd())\n",
    "df_diagram = pd.read_csv(\"cbd_diagram.csv\")\n",
    "print(df)\n",
    "# Build your graph\n",
    "G=nx.from_pandas_edgelist(df_diagram, 'from', 'to')#, edge_attr=True)\n",
    " \n",
    "# Graph with Custom nodes:\n",
    "plt.figure(figsize=(8,8)) \n",
    "nx.draw(G, with_labels=True, node_size=60,font_size=8, node_color=\"skyblue\", node_shape=\"s\", alpha=0.5, linewidths=40)\n",
    "pos=nx.spring_layout(G)\n",
    "plt.show()"
   ]
  },
  {
   "cell_type": "code",
   "execution_count": 29,
   "metadata": {},
   "outputs": [
    {
     "output_type": "stream",
     "name": "stdout",
     "text": [
      "{\"address\": [\"address_line\", \"postcode\"], \"contact_details\": [\"address\", \"telephone_number\", \"email\", \"identification\"], \"date\": [\"date_of_birth\"], \"de-identification_root_concept\": [\"name\", \"contact_details\", \"healthcare_identifier\", \"date\"], \"healthcare_identifier\": [\"nhs_number\", \"hospital_number\", \"emergency_department_number\"], \"identification\": [\"passport_number\", \"driving_licence_number\"], \"name\": [\"fore_name\", \"surname\"], \"website\": [\"URL\"]}\n"
     ]
    }
   ],
   "source": [
    "# TODO: Create a JSON file with the terminology structure with only the Fully specified names (FSN)\n",
    "deid_json = json.dumps(deid_dict, sort_keys=True)\n",
    "print(deid_json)\n",
    "\n",
    "\n",
    "# TODO: create a CUI convention which reflects terminology structure\n",
    "# code consists of 2 parts a letter = the term it belongs to (either the root, or the 1st child term) then a 4 letter code linking the term into the rest of the dictionary [first_parent][second parent][third parent][fourth parent]\n",
    "deid_cui_dict = {\n",
    "    \"de-identification_root_concept\": \"r0000\",\n",
    "    \"name\": \"n1000\",\n",
    "    \"contact_details\": \"c2000\",\n",
    "    \"healthcare_identifier\": \"h3000\",\n",
    "    \"date\": \"d4000\",\n",
    "    \"website\": \"w5000\",\n",
    "    \"fore_name\": \"n1100\",\n",
    "    \"surname\": \"n1200\",\n",
    "    \"address\": \"c2100\",\n",
    "    \"address_line\": \"c2110\",\n",
    "    \"postcode\": \"c2120\",\n",
    "    \"telephone_number\":\"c2200\",\n",
    "    \"email\": \"c2300\",\n",
    "    \"identification\": \"c2400\",\n",
    "    \"passport_number\": \"c2410\",\n",
    "    \"driving_licence_number\": \"c2420\",\n",
    "    \"nhs_number\": \"h3100\",\n",
    "    \"hospital_number\": \"h3200\",\n",
    "    \"emergency_department_number\": \"h3300\",\n",
    "    \"date_of_birth\": \"h4100\",\n",
    "    \"URL\": \"w5100\"\n",
    "    }"
   ]
  },
  {
   "cell_type": "markdown",
   "metadata": {},
   "source": [
    "# Create a CDB CSV format file following the structure:\n",
    "\n",
    "|cui|str|onto|tty|tui|sty|desc|\n",
    "|--|--|--|--|--|--|--|\n",
    "\n",
    "__cui__ - The concept unique identifier, this is simply an ID in your database\n",
    "\n",
    "__str__ - String/Name of that concept. It is important to write all possible names and abbreviations for a concept of interest.\n",
    "\n",
    "__onto__ - Source ontology, e.g. HPO, SNOMED, HPC,...\n",
    "\n",
    "__tty__ - Term type e.g. PN - Primary Name. Primary names are important and I would always recommend to add this fields when creating your CDB. Important to distinguish from synoymns. \n",
    "\n",
    "__tui__ - Semantic type identifier - A unique identifier code for each semantic type.\n",
    "\n",
    "__sty__ - Semantic type - AKA fully specified name of top level concept group\n",
    "\n",
    "__desc__ - Description of this concept\n"
   ]
  },
  {
   "cell_type": "code",
   "execution_count": 27,
   "metadata": {},
   "outputs": [],
   "source": [
    "# TODO: enrich the terminology with synonyms\n",
    "# TODO: Create a csv file with each concept and concept unique identifier\n",
    "\n",
    "# dictionary of root concepts for the de-id cui database\n",
    "deid_sty = {\n",
    "    \"de-identification_root_concept\": \"r0000\",\n",
    "    \"name\": \"r0000\",\n",
    "    \"contact_details\": \"r0000\",\n",
    "    \"healthcare_identifier\": \"r0000\",\n",
    "    \"date\": \"r0000\",\n",
    "    \"fore_name\": \"n1000\",\n",
    "    \"surname\": \"n1000\",\n",
    "    \"address\": \"c2000\",\n",
    "    \"address_line\": \"c2100\",\n",
    "    \"postcode\": \"c2100\",\n",
    "    \"telephone_number\":\"c2000\",\n",
    "    \"email\": \"c2000\",\n",
    "    \"identification\": \"c2000\",\n",
    "    \"passport_number\": \"c2400\",\n",
    "    \"driving_licence_number\": \"c2400\",\n",
    "    \"URL\":\"c2400\",\n",
    "    \"nhs_number\": \"h3000\",\n",
    "    \"hospital_number\": \"h3000\",\n",
    "    \"emergency_department_number\": \"h3000\",\n",
    "    \"date_of_birth\": \"d4000\"\n",
    "    }\n",
    "# dictionary of descriptions for the de-id cui database\n",
    "deid_desc = {\n",
    "    \"de-identification_root_concept\": \"root concept of de-identification\",\n",
    "    \"name\": \"surname and forname\",\n",
    "    \"contact_details\": \"non hospital identification and contact details\",\n",
    "    \"healthcare_identifier\": \"hospital derived ID\",\n",
    "    \"date\": \"personal dates\",\n",
    "    \"fore_name\": \"given name including middle names\",\n",
    "    \"surname\": \"all surnames\",\n",
    "    \"address\": \"address and postcode\",\n",
    "    \"address_line\": \"all address line items including city and country\",\n",
    "    \"postcode\": \"all postcodes\",\n",
    "    \"telephone_number\":\"telepone numbers both mobile and landline\",\n",
    "    \"email\": \"email addresses\",\n",
    "    \"identification\": \"non hospital identification\",\n",
    "    \"passport_number\": \"possport number\",\n",
    "    \"driving_licence_number\": \"driving licence\",\n",
    "    \"nhs_number\": \"nhs numbers\",\n",
    "    \"hospital_number\": \"hospital number from kings college hospital and other trusts\",\n",
    "    \"emergency_department_number\": \"number given by kings college hospital emergency number\",\n",
    "    \"date_of_birth\": \"date of birth\"\n",
    "    }"
   ]
  },
  {
   "cell_type": "code",
   "execution_count": 38,
   "metadata": {},
   "outputs": [
    {
     "output_type": "stream",
     "name": "stdout",
     "text": [
      "                               str    cui      onto tty tui sty  \\\n0   de-identification_root_concept  r0000  cat_anon  PN           \n1                             name  n1000  cat_anon  PN           \n2                  contact_details  c2000  cat_anon  PN           \n3            healthcare_identifier  h3000  cat_anon  PN           \n4                             date  d4000  cat_anon  PN           \n5                        fore_name  n1100  cat_anon  PN           \n6                          surname  n1200  cat_anon  PN           \n7                          address  c2100  cat_anon  PN           \n8                     address_line  c2110  cat_anon  PN           \n9                         postcode  c2120  cat_anon  PN           \n10                telephone_number  c2200  cat_anon  PN           \n11                           email  c2300  cat_anon  PN           \n12                  identification  c2400  cat_anon  PN           \n13                 passport_number  c2410  cat_anon  PN           \n14          driving_licence_number  c2420  cat_anon  PN           \n15                      nhs_number  h3100  cat_anon  PN           \n16                 hospital_number  h3200  cat_anon  PN           \n17     emergency_department_number  h3300  cat_anon  PN           \n18                   date_of_birth  h4100  cat_anon  PN           \n\n                                                 desc  \n0                   root concept of de-identification  \n1                                 surname and forname  \n2     non hospital identification and contact details  \n3                                 hospital derived ID  \n4                                      personal dates  \n5                   given name including middle names  \n6                                        all surnames  \n7                                address and postcode  \n8   all address line items including city and country  \n9                                       all postcodes  \n10          telepone numbers both mobile and landline  \n11                                    email addresses  \n12                        non hospital identification  \n13                                    possport number  \n14                                    driving licence  \n15                                        nhs numbers  \n16  hospital number from kings college hospital an...  \n17  number given by kings college hospital emergen...  \n18                                      date of birth  \n"
     ]
    }
   ],
   "source": [
    "df = pd.DataFrame(deid_cui_dict.items(), columns=['str', 'cui'])\n",
    "df[\"onto\"] = \"cat_anon\"\n",
    "df[\"tty\"] =\"PN\"\n",
    "df[\"tui\"] = \"\"\n",
    "df[\"sty\"] = \"\"\n",
    "#sty_df = d.DataFrame(deid_sty.items(), columns=['str', 'desc'])\n",
    "desc_df = pd.DataFrame(deid_desc.items(), columns=['str', 'desc'])\n",
    "#df = df.merge(sty_df, left_on=\"str\",right_on=\"str\")\n",
    "df = df.merge(desc_df, left_on=\"str\",right_on=\"str\")\n",
    "print(df)"
   ]
  },
  {
   "cell_type": "code",
   "execution_count": 34,
   "metadata": {},
   "outputs": [],
   "source": [
    "# read in list\n",
    "def read_list(name, encode):\n",
    "    with open(name, encoding = encode) as file:\n",
    "        lines = [line.rstrip('\\n') for line in file]\n",
    "        return lines"
   ]
  },
  {
   "cell_type": "code",
   "execution_count": 35,
   "metadata": {},
   "outputs": [],
   "source": [
    "# read in list of first names\n",
    "def list_2_df(lst,cui, sty):\n",
    "    \"\"\"\n",
    "    Takes a list of words, the cui (concept) and sty (root concept) nad turns this into a cat_anon dataframe\n",
    "    \"\"\"\n",
    "    temp_df = pd.DataFrame({'str':lst})\n",
    "    temp_df[\"cui\"] = cui\n",
    "    temp_df[\"onto\"] = \"cat_anon\"\n",
    "    temp_df[\"tty\"] =\"SN\"\n",
    "    temp_df[\"tui\"] = \"\"\n",
    "    temp_df[\"sty\"] = \"\"\n",
    "    temp_df[\"desc\"] = \"\"\n",
    "    return temp_df"
   ]
  },
  {
   "cell_type": "code",
   "execution_count": 36,
   "metadata": {},
   "outputs": [],
   "source": [
    "first_names = read_list(\"cleaned_output/cleaned_first_name.txt\",\"UTF-8\")\n",
    "last_names = read_list(\"cleaned_output/cleaned_last_name.txt\",\"UTF-8\")\n",
    "hosp_num = read_list(\"cleaned_output/cleaned_last_name.txt\",\"UTF-8\")\n",
    "nhs_num = read_list(\"cleaned_output/nhs_numbers.txt\",\"UTF-8\")\n",
    "postcodes = read_list(\"cleaned_output/postcodes.txt\",\"UTF-8\")"
   ]
  },
  {
   "cell_type": "code",
   "execution_count": 37,
   "metadata": {},
   "outputs": [
    {
     "output_type": "stream",
     "name": "stdout",
     "text": [
      "        str    cui      onto tty tui sty desc\n0  TA23 0QX  c2120  cat_anon  SN             \n1   DT1 2QZ  c2120  cat_anon  SN             \n2  BH22 9HH  c2120  cat_anon  SN             \n3   SW2 1SP  c2120  cat_anon  SN             \n4   TW3 9SE  c2120  cat_anon  SN             \n"
     ]
    }
   ],
   "source": [
    "first_df = list_2_df(first_names, \"n1100\", \"\")\n",
    "last_df = list_2_df(last_names, \"n1200\", \"\")\n",
    "hosp_df = list_2_df(hosp_num, \"h3200\", \"\")\n",
    "nhs_df = list_2_df(nhs_num, \"h3100\", \"\")\n",
    "postcode_df = list_2_df(postcodes, \"c2120\", \"\")\n",
    "print(postcode_df.head())"
   ]
  },
  {
   "cell_type": "code",
   "execution_count": 40,
   "metadata": {},
   "outputs": [],
   "source": [
    "#output broken up for to make files smaller\n",
    "df_list1 = [df, first_df, last_df]\n",
    "df_list2 = [hosp_df, postcode_df]\n",
    "df_list3 = [nhs_df]\n",
    "#df_list4 = [landline_df, mobile_df]\n",
    "output_df1 = pd.concat(df_list1)\n",
    "output_df2 = pd.concat(df_list2)\n",
    "output_df3 = pd.concat(df_list3)\n",
    "#output_df4 = pd.concat(df_list4)\n"
   ]
  },
  {
   "cell_type": "code",
   "execution_count": 41,
   "metadata": {},
   "outputs": [],
   "source": [
    "output_df1.to_csv(\"cui1.csv\", index=False)\n",
    "output_df2.to_csv(\"cui2.csv\", index=False)\n",
    "output_df3.to_csv(\"cui3.csv\", index=False)\n",
    "#output_df4.to_csv(\"cui4.csv\", index=False)"
   ]
  },
  {
   "cell_type": "code",
   "execution_count": 43,
   "metadata": {},
   "outputs": [],
   "source": [
    "# full output\n",
    "df_list = [df, first_df, last_df,hosp_df, postcode_df,nhs_df]\n",
    "full_output = pd.concat(df_list)\n",
    "output_fill=full_output.to_csv(\"full_cui_medcat040221.csv\", index=False)"
   ]
  },
  {
   "cell_type": "code",
   "execution_count": null,
   "metadata": {},
   "outputs": [],
   "source": []
  }
 ],
 "metadata": {
  "kernelspec": {
   "display_name": "Python 3",
   "language": "python",
   "name": "python3"
  },
  "language_info": {
   "codemirror_mode": {
    "name": "ipython",
    "version": 3
   },
   "file_extension": ".py",
   "mimetype": "text/x-python",
   "name": "python",
   "nbconvert_exporter": "python",
   "pygments_lexer": "ipython3",
   "version": "3.6.9-final"
  }
 },
 "nbformat": 4,
 "nbformat_minor": 1
}