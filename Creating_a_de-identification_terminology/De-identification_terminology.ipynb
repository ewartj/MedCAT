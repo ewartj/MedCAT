{
 "cells": [
  {
   "cell_type": "code",
   "execution_count": 2,
   "metadata": {},
   "outputs": [],
   "source": [
    "import pandas as pd"
   ]
  },
  {
   "cell_type": "markdown",
   "metadata": {},
   "source": [
    "The 18 identifiers that make health information PHI are:\n",
    "\n",
    " - Names\n",
    " - Dates, except year\n",
    " - Telephone numbers\n",
    " - Geographic data\n",
    " - FAX numbers\n",
    " - Social Security numbers\n",
    " - Email addresses\n",
    " - Medical record numbers\n",
    " - Account numbers\n",
    " - Health plan beneficiary numbers\n",
    " - Certificate/license numbers\n",
    " - Vehicle identifiers and serial numbers including license plates\n",
    " - Web URLs\n",
    " - Device identifiers and serial numbers\n",
    " - Internet protocol addresses\n",
    " - Full face photos and comparable images\n",
    " - Biometric identifiers (i.e. retinal scan, fingerprints)\n",
    " - Any unique identifying number or code"
   ]
  },
  {
   "cell_type": "code",
   "execution_count": 5,
   "metadata": {},
   "outputs": [],
   "source": [
    "deid_dict = {\n",
    "    \"de-identification_root_concept\": [\"name\", \"contact_details\", \"healthcare_identifiers\", \"date\"],\n",
    "    \"name\": [\"fore_name\", \"surname\"],\n",
    "    \"contact_details\": [\"address\", \"telephone_number\", \"email\", \"identification\"],\n",
    "    \"address\": [\"address_line\", \"postcode\"],\n",
    "    \"identification\": [\"passport_number\", \"driving_licence_number\"],\n",
    "    \"healthcare_identifier\": [\"nhs_number\", \"hospital_number\", \"emergency_department_number\"],\n",
    "    \"date\": [\"date_of_birth\"],\n",
    "    }\n"
   ]
  },
  {
   "cell_type": "code",
   "execution_count": 7,
   "metadata": {},
   "outputs": [
    {
     "name": "stdout",
     "output_type": "stream",
     "text": [
      "dict_keys(['de-identification_root_concept', 'name', 'contact_details', 'address', 'identification', 'healthcare_identifier', 'date'])\n"
     ]
    }
   ],
   "source": [
    "print(deid_dict.keys())\n"
   ]
  },
  {
   "cell_type": "markdown",
   "metadata": {},
   "source": [
    "#### Meta_annotations will hold the contextual information of the concept.\n",
    "\"Subject\": [\"patient\", \"family\", \"clinician\"] (unselected meta_ann will mean \"other/ N/A\")\n"
   ]
  },
  {
   "cell_type": "code",
   "execution_count": null,
   "metadata": {},
   "outputs": [],
   "source": [
    "# TODO: visualise the terminology hierarchy\n",
    "# TODO: Create a JSON file with each concept and concept unique identifier\n",
    "# TODO: enrich the terminology with synonyms\n"
   ]
  },
  {
   "cell_type": "markdown",
   "metadata": {},
   "source": [
    "# Create a CDB CSV format file following the structure:\n",
    "\n",
    "|cui|str|onto|tty|tui|sty|desc|\n",
    "|--|--|--|--|--|--|--|\n",
    "\n",
    "__cui__ - The concept unique identifier, this is simply an ID in your database\n",
    "\n",
    "__str__ - String/Name of that concept. It is important to write all possible names and abbreviations for a concept of interest.\n",
    "\n",
    "__onto__ - Source ontology, e.g. HPO, SNOMED, HPC,...\n",
    "\n",
    "__tty__ - Term type e.g. PN - Primary Name. Primary names are important and I would always recommend to add this fields when creating your CDB. Important to distinguish from synoymns. \n",
    "\n",
    "__tui__ - Semantic type identifier - A unique identifier code for each semantic type.\n",
    "\n",
    "__sty__ - Semantic type - AKA fully specified name of top level concept group\n",
    "\n",
    "__desc__ - Description of this concept\n"
   ]
  },
  {
   "cell_type": "code",
   "execution_count": 10,
   "metadata": {},
   "outputs": [],
   "source": [
    "df = pd.DataFrame(columns=['cui', 'str', 'onto', 'tty', 'tui', 'sty', 'desc'])"
   ]
  },
  {
   "cell_type": "code",
   "execution_count": 13,
   "metadata": {},
   "outputs": [
    {
     "data": {
      "text/html": [
       "<div>\n",
       "<style scoped>\n",
       "    .dataframe tbody tr th:only-of-type {\n",
       "        vertical-align: middle;\n",
       "    }\n",
       "\n",
       "    .dataframe tbody tr th {\n",
       "        vertical-align: top;\n",
       "    }\n",
       "\n",
       "    .dataframe thead th {\n",
       "        text-align: right;\n",
       "    }\n",
       "</style>\n",
       "<table border=\"1\" class=\"dataframe\">\n",
       "  <thead>\n",
       "    <tr style=\"text-align: right;\">\n",
       "      <th></th>\n",
       "      <th>cui</th>\n",
       "      <th>str</th>\n",
       "      <th>onto</th>\n",
       "      <th>tty</th>\n",
       "      <th>tui</th>\n",
       "      <th>sty</th>\n",
       "      <th>desc</th>\n",
       "    </tr>\n",
       "  </thead>\n",
       "  <tbody>\n",
       "  </tbody>\n",
       "</table>\n",
       "</div>"
      ],
      "text/plain": [
       "<div>\n",
       "<style scoped>\n",
       "    .dataframe tbody tr th:only-of-type {\n",
       "        vertical-align: middle;\n",
       "    }\n",
       "\n",
       "    .dataframe tbody tr th {\n",
       "        vertical-align: top;\n",
       "    }\n",
       "\n",
       "    .dataframe thead th {\n",
       "        text-align: right;\n",
       "    }\n",
       "</style>\n",
       "<table border=\"1\" class=\"dataframe\">\n",
       "  <thead>\n",
       "    <tr style=\"text-align: right;\">\n",
       "      <th></th>\n",
       "      <th>cui</th>\n",
       "      <th>str</th>\n",
       "      <th>onto</th>\n",
       "      <th>tty</th>\n",
       "      <th>tui</th>\n",
       "      <th>sty</th>\n",
       "      <th>desc</th>\n",
       "    </tr>\n",
       "  </thead>\n",
       "  <tbody>\n",
       "  </tbody>\n",
       "</table>\n",
       "</div>"
      ]
     },
     "execution_count": 13,
     "metadata": {},
     "output_type": "execute_result"
    }
   ],
   "source": [
    "df"
   ]
  },
  {
   "cell_type": "code",
   "execution_count": null,
   "metadata": {},
   "outputs": [],
   "source": []
  }
 ],
 "metadata": {
  "kernelspec": {
   "display_name": "Python 3",
   "language": "python",
   "name": "python3"
  },
  "language_info": {
   "codemirror_mode": {
    "name": "ipython",
    "version": 3
   },
   "file_extension": ".py",
   "mimetype": "text/x-python",
   "name": "python",
   "nbconvert_exporter": "python",
   "pygments_lexer": "ipython3",
   "version": "3.8.2"
  }
 },
 "nbformat": 4,
 "nbformat_minor": 1
}
