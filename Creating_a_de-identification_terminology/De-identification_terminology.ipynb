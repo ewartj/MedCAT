{
 "cells": [
  {
   "cell_type": "code",
   "execution_count": 2,
   "metadata": {},
   "outputs": [],
   "source": [
    "import pandas as pd"
   ]
  },
  {
   "cell_type": "markdown",
   "metadata": {},
   "source": [
    "The 18 identifiers that make health information PHI are:\n",
    "\n",
    " - Names\n",
    " - Dates, except year\n",
    " - Telephone numbers\n",
    " - Geographic data\n",
    " - FAX numbers\n",
    " - Social Security numbers\n",
    " - Email addresses\n",
    " - Medical record numbers\n",
    " - Account numbers\n",
    " - Health plan beneficiary numbers\n",
    " - Certificate/license numbers\n",
    " - Vehicle identifiers and serial numbers including license plates\n",
    " - Web URLs\n",
    " - Device identifiers and serial numbers\n",
    " - Internet protocol addresses\n",
    " - Full face photos and comparable images\n",
    " - Biometric identifiers (i.e. retinal scan, fingerprints)\n",
    " - Any unique identifying number or code"
   ]
  },
  {
   "cell_type": "code",
   "execution_count": 5,
   "metadata": {},
   "outputs": [],
   "source": [
    "deid_dict = {\n",
    "    \"de-identification_root_concept\": [\"name\", \"contact_details\", \"healthcare_identifiers\", \"date\"],\n",
    "    \"name\": [\"fore_name\", \"surname\"],\n",
    "    \"contact_details\": [\"address\", \"telephone_number\", \"email\", \"identification\"],\n",
    "    \"address\": [\"address_line\", \"postcode\"],\n",
    "    \"identification\": [\"passport_number\", \"driving_licence_number\"],\n",
    "    \"healthcare_identifier\": [\"nhs_number\", \"hospital_number\", \"emergency_department_number\"],\n",
    "    \"date\": [\"date_of_birth\"],\n",
    "    }\n"
   ]
  },
  {
   "cell_type": "code",
   "execution_count": 7,
   "metadata": {},
   "outputs": [
    {
     "name": "stdout",
     "output_type": "stream",
     "text": [
      "dict_keys(['de-identification_root_concept', 'name', 'contact_details', 'address', 'identification', 'healthcare_identifier', 'date'])\n"
     ]
    }
   ],
   "source": [
    "print(deid_dict.keys())\n"
   ]
  },
  {
   "cell_type": "markdown",
   "metadata": {},
   "source": [
    "#### Meta_annotations will hold the contextual information of the concept.\n",
    "\"Subject\": [\"patient\", \"family\", \"clinician\"]\n"
   ]
  },
  {
   "cell_type": "code",
   "execution_count": null,
   "metadata": {},
   "outputs": [],
   "source": [
    "# TODO: visualise the terminology hierarchy\n",
    "# TODO: Create a JSON file with each concept and concept unique identifier\n",
    "# TODO: enrich the terminology with synonyms\n"
   ]
  }
 ],
 "metadata": {
  "kernelspec": {
   "display_name": "Python 3",
   "language": "python",
   "name": "python3"
  },
  "language_info": {
   "codemirror_mode": {
    "name": "ipython",
    "version": 3
   },
   "file_extension": ".py",
   "mimetype": "text/x-python",
   "name": "python",
   "nbconvert_exporter": "python",
   "pygments_lexer": "ipython3",
   "version": "3.8.2"
  }
 },
 "nbformat": 4,
 "nbformat_minor": 1
}
