{
 "cells": [
  {
   "cell_type": "code",
   "execution_count": 1,
   "metadata": {},
   "outputs": [
    {
     "name": "stderr",
     "output_type": "stream",
     "text": [
      "/Users/shek/anaconda3/envs/medcatenv/lib/python3.8/site-packages/medcat/cat.py:7: TqdmExperimentalWarning: Using `tqdm.autonotebook.tqdm` in notebook mode. Use `tqdm.tqdm` instead to force console mode (e.g. in jupyter console)\n",
      "  from tqdm.autonotebook import tqdm\n"
     ]
    }
   ],
   "source": [
    "from medcat.cat import CAT\n",
    "from medcat.vocab import Vocab\n",
    "from medcat.cdb import CDB\n",
    "import pandas as pd\n",
    "from medcat.meta_cat import MetaCAT\n",
    "import numpy as np\n",
    "import json\n",
    "from medcat.utils.helpers import run_cv"
   ]
  },
  {
   "cell_type": "markdown",
   "metadata": {},
   "source": [
    "# Config"
   ]
  },
  {
   "cell_type": "code",
   "execution_count": 2,
   "metadata": {},
   "outputs": [],
   "source": [
    "cdb_path = \"20210304_basic_deid_cdb_wtout_names.dat\"\n",
    "cdb_save_path = \"../Train MedCAT | NER+L/Data/20210304_supervised_basic_deid_cdb_wtout_names.dat\"\n",
    "vocab_path = \"/Users/shek/Desktop/medcat/kch_vocab_300.dat\"\n",
    "data_path = \"../Train MedCAT | NER+L/Data/mct-exports/MedCAT_Export_With_Text_2021-03-18_20_02_52.json\"\n",
    "groups_path = None # Path to the json file with groups\n",
    "\n",
    "filter_path = None # filter onlt specific concepts to train"
   ]
  },
  {
   "cell_type": "markdown",
   "metadata": {},
   "source": [
    "# Preprocessing"
   ]
  },
  {
   "cell_type": "code",
   "execution_count": 23,
   "metadata": {},
   "outputs": [],
   "source": [
    "t_file = json.load(open(data_path, 'r'))"
   ]
  },
  {
   "cell_type": "code",
   "execution_count": 26,
   "metadata": {},
   "outputs": [],
   "source": [
    "\n",
    "# Correct url ann to Website\n",
    "proj = 0\n",
    "for project in t_file['projects']:\n",
    "    docu = 0\n",
    "    for doc in project['documents']:\n",
    "        anns = 0\n",
    "        for ann in doc['annotations']:\n",
    "            if ann['cui'] == 'C2500':\n",
    "                t_file['projects'][proj]['documents'][docu]['annotations'][anns]['cui'] = 'W5000'\n",
    "                print(\"Changed C2500 to W5000\")\n",
    "            anns += 1\n",
    "        docu += 1\n",
    "    proj += 1\n",
    "            "
   ]
  },
  {
   "cell_type": "markdown",
   "metadata": {},
   "source": [
    "# Train MedCAT"
   ]
  },
  {
   "cell_type": "code",
   "execution_count": 3,
   "metadata": {},
   "outputs": [],
   "source": [
    "# Config the new model \n",
    "cdb = CDB.load(cdb_path)\n",
    "vocab = Vocab.load(path=vocab_path)\n",
    "\n",
    "cdb.config.ner['min_name_len'] = 2\n",
    "cdb.config.ner['upper_case_limit_len'] = 3\n",
    "cdb.config.general['spell_check'] = True\n",
    "cdb.config.linking['train_count_threshold'] = 10\n",
    "cdb.config.linking['similarity_threshold'] = 0.3\n",
    "cdb.config.linking['train'] = True\n",
    "cdb.config.linking['disamb_length_limit'] = 5\n",
    "cdb.config.general['full_unlink'] = True\n",
    "cat = CAT(cdb=cdb, config=cdb.config, vocab=vocab)"
   ]
  },
  {
   "cell_type": "code",
   "execution_count": null,
   "metadata": {},
   "outputs": [],
   "source": []
  },
  {
   "cell_type": "code",
   "execution_count": null,
   "metadata": {},
   "outputs": [],
   "source": [
    "#cat.cdb.reset_cui_count(n=30)"
   ]
  },
  {
   "cell_type": "markdown",
   "metadata": {},
   "source": [
    "# Set filter"
   ]
  },
  {
   "cell_type": "code",
   "execution_count": 4,
   "metadata": {},
   "outputs": [],
   "source": [
    "if filter_path is not None:\n",
    "    concept_filter = json.load(open(filter_path, 'r'))"
   ]
  },
  {
   "cell_type": "markdown",
   "metadata": {},
   "source": [
    "# Train"
   ]
  },
  {
   "cell_type": "code",
   "execution_count": null,
   "metadata": {
    "scrolled": true
   },
   "outputs": [],
   "source": [
    "fp, fn, tp, p, r, f1, cnts, examples = cat.train_supervised(data_path=data_path,\n",
    "                                                            print_stats=True,\n",
    "                                                            use_filters=False,\n",
    "                                                            reset_cui_count=False,\n",
    "                                                            nepochs=5,\n",
    "                                                            never_terminate=False,\n",
    "                                                            terminate_last=True,\n",
    "                                                            devalue_others=True,\n",
    "                                                            )"
   ]
  },
  {
   "cell_type": "markdown",
   "metadata": {},
   "source": [
    "# Save "
   ]
  },
  {
   "cell_type": "code",
   "execution_count": 6,
   "metadata": {},
   "outputs": [],
   "source": [
    "cat.cdb.save(cdb_save_path)\n",
    "cdb.config.linking['train'] = False"
   ]
  },
  {
   "cell_type": "markdown",
   "metadata": {},
   "source": [
    "# Test model"
   ]
  },
  {
   "cell_type": "code",
   "execution_count": 3,
   "metadata": {},
   "outputs": [],
   "source": [
    "# Load cdb\n",
    "cdb = CDB.load(cdb_save_path)"
   ]
  },
  {
   "cell_type": "code",
   "execution_count": 6,
   "metadata": {},
   "outputs": [
    {
     "data": {
      "text/plain": [
       "{'R0000': 0,\n",
       " 'N1000': 0,\n",
       " 'C2000': 0,\n",
       " 'H3000': 0,\n",
       " 'D4000': 170,\n",
       " 'N1100': 15670,\n",
       " 'N1200': 20200,\n",
       " 'C2100': 5,\n",
       " 'C2110': 5330,\n",
       " 'C2120': 5150,\n",
       " 'C2200': 4220,\n",
       " 'C2300': 3885,\n",
       " 'C2400': 0,\n",
       " 'C2410': 0,\n",
       " 'C2420': 0,\n",
       " 'C2430': 15,\n",
       " 'H3100': 1625,\n",
       " 'H3200': 3540,\n",
       " 'H3300': 2915,\n",
       " 'H3400': 965,\n",
       " 'H4100': 1950,\n",
       " 'C2500': 25,\n",
       " 'N1300': 880,\n",
       " 'H3500': 10}"
      ]
     },
     "execution_count": 6,
     "metadata": {},
     "output_type": "execute_result"
    }
   ],
   "source": [
    "cdb.cui2count_train"
   ]
  },
  {
   "cell_type": "code",
   "execution_count": 27,
   "metadata": {},
   "outputs": [
    {
     "data": {
      "text/plain": [
       "dict_keys(['R0000', 'N1000', 'C2000', 'H3000', 'D4000', 'N1100', 'N1200', 'C2100', 'C2110', 'C2120', 'C2200', 'C2300', 'C2400', 'C2410', 'C2420', 'C2430', 'H3100', 'H3200', 'H3300', 'H3400', 'H4100', 'C2500', 'N1300', 'H3500'])"
      ]
     },
     "execution_count": 27,
     "metadata": {},
     "output_type": "execute_result"
    }
   ],
   "source": [
    "cdb.cui2names.keys()"
   ]
  },
  {
   "cell_type": "code",
   "execution_count": null,
   "metadata": {},
   "outputs": [],
   "source": [
    "text_sample = \"\"\"\n",
    "Dear Dr False,\n",
    "\n",
    "Patient DOB: 13/01/2018\n",
    "\n",
    "It was a pleasure to meet John Doe in my clinic today. John suffered from chest pains but it turned out to be fine.\n",
    "\n",
    "\n",
    "\n",
    "Thank you.\n",
    "\n",
    "Sincerely,\n",
    "DR Faker\n",
    "\n",
    "Imagainary hospital\n",
    "Golden gate\n",
    "se26 4rl\n",
    "\"\"\""
   ]
  },
  {
   "cell_type": "code",
   "execution_count": null,
   "metadata": {},
   "outputs": [],
   "source": []
  },
  {
   "cell_type": "markdown",
   "metadata": {},
   "source": [
    "# Print Stats"
   ]
  },
  {
   "cell_type": "markdown",
   "metadata": {},
   "source": [
    "### If groups run the two cells below"
   ]
  },
  {
   "cell_type": "code",
   "execution_count": null,
   "metadata": {},
   "outputs": [],
   "source": [
    "if groups_path is not None:\n",
    "    groups = json.load(open(groups_path))\n",
    "else:\n",
    "    groups = None"
   ]
  },
  {
   "cell_type": "code",
   "execution_count": null,
   "metadata": {},
   "outputs": [],
   "source": [
    "if groups is not None:\n",
    "    for cui in cdb.cui2info.keys():\n",
    "        if \"group\" in cdb.cui2info[cui]:\n",
    "            del cdb.cui2info[cui]['group']\n",
    "        \n",
    "    for k,v in groups.items():\n",
    "        for val in v:\n",
    "            cat.add_cui_to_group(val, k)"
   ]
  },
  {
   "cell_type": "markdown",
   "metadata": {},
   "source": [
    "## Stats"
   ]
  },
  {
   "cell_type": "code",
   "execution_count": null,
   "metadata": {},
   "outputs": [],
   "source": [
    "use_groups = False\n",
    "if groups is not None:\n",
    "    use_groups = True\n",
    "\n",
    "data = json.load(open(data_path))\n",
    "fp, fn, tp, p, r, f1, cnts, examples = cat._print_stats(data, use_filters=True, use_cui_doc_limit=True, use_groups=use_groups)"
   ]
  },
  {
   "cell_type": "code",
   "execution_count": null,
   "metadata": {},
   "outputs": [],
   "source": [
    "if groups is not None:\n",
    "    chosen_cui = [cui for cui in list(groups.keys())]\n",
    "else:\n",
    "    chosen_cui = list(f1.keys())"
   ]
  },
  {
   "cell_type": "code",
   "execution_count": null,
   "metadata": {},
   "outputs": [],
   "source": [
    "df_data = [(\"NumAnnotatedExamples\", \"F1\", \"P\", \"R\", \"Name\", \"CUI\", \"Type\", \"Scores Calculated On\")]\n",
    "for c in chosen_cui:\n",
    "    df_data.append([cnts.get(c, 0), f1.get(c, 0), p.get(c, 0), r.get(c, 0), cdb.cui2pretty_name.get(c, c), c, cdb.tui2name.get(cdb.cui2tui.get(c, 'unk'), 'unk'), \"Train Set\"])\n",
    "\n",
    "df = pd.DataFrame(df_data[1:], columns=df_data[0])\n",
    "df.to_csv(\"results_train.csv\", index=False)\n",
    "print(len(df))\n",
    "df.head(n=20)"
   ]
  },
  {
   "cell_type": "markdown",
   "metadata": {},
   "source": [
    "### Run CV if necesssary"
   ]
  },
  {
   "cell_type": "code",
   "execution_count": null,
   "metadata": {},
   "outputs": [],
   "source": [
    "from medcat.utils.helpers import run_cv"
   ]
  },
  {
   "cell_type": "code",
   "execution_count": null,
   "metadata": {},
   "outputs": [],
   "source": [
    "fps, fns, tps, ps, rs, f1s, cnts, examples = run_cv(cdb_path, data_path, vocab_path, cv=2, nepochs=1, \n",
    "                                                            lr=1,\n",
    "                                                            groups=groups,\n",
    "                                                            anneal=True,\n",
    "                                                            print_stats=True, \n",
    "                                                            use_filters=True, \n",
    "                                                            reset_cui_count=True,\n",
    "                                                            never_terminate=ignore_termination,\n",
    "                                                            use_cui_doc_limit=True)"
   ]
  },
  {
   "cell_type": "code",
   "execution_count": null,
   "metadata": {},
   "outputs": [],
   "source": [
    "f1 = {}\n",
    "r = {}\n",
    "p = {}\n",
    "tp = {}\n",
    "fp = {}\n",
    "fn = {}\n",
    "for key in f1s.keys():\n",
    "    f1[key] = np.average(f1s[key])\n",
    "    p[key] = np.average(ps[key])\n",
    "    r[key] = np.average(rs[key])\n",
    "    \n",
    "    tp[key] = int(np.ceil(np.average(tps.get(key, [0]))))\n",
    "    fp[key] = int(np.ceil(np.average(fps.get(key, [0]))))\n",
    "    fn[key] = int(np.ceil(np.average(fns.get(key, [0]))))"
   ]
  },
  {
   "cell_type": "code",
   "execution_count": null,
   "metadata": {},
   "outputs": [],
   "source": [
    "# Used to get counts from the whole dataset\n",
    "data = json.load(open(data_path))\n",
    "_, _, _, _, _, _, cnts, examples = cat._print_stats(data, use_filters=True, use_cui_doc_limit=False)"
   ]
  },
  {
   "cell_type": "code",
   "execution_count": null,
   "metadata": {},
   "outputs": [],
   "source": [
    "if groups is not None:\n",
    "    chosen_cui = [cui for cui in list(groups.keys())]\n",
    "else:\n",
    "    chosen_cui = list(f1.keys())"
   ]
  },
  {
   "cell_type": "code",
   "execution_count": null,
   "metadata": {},
   "outputs": [],
   "source": [
    "df_data = [(\"NumAnnotatedExamples\", \"F1\", \"P\", \"R\", \"Name\", \"CUI\", \"Type\", \"Scores Calculated On\")]\n",
    "for c in chosen_cui:\n",
    "    df_data.append([cnts.get(c, 0), f1.get(c, 0), p.get(c, 0), r.get(c, 0), cdb.cui2pretty_name.get(c, c), c, cdb.tui2name.get(cdb.cui2tui.get(c, 'unk'), 'unk'), \"Test Set\"])\n",
    "\n",
    "df = pd.DataFrame(df_data[1:], columns=df_data[0])\n",
    "df.to_csv(\"results_test.csv\", index=False)\n",
    "print(len(df))\n",
    "df.head(n=20)"
   ]
  },
  {
   "cell_type": "code",
   "execution_count": null,
   "metadata": {},
   "outputs": [],
   "source": []
  }
 ],
 "metadata": {
  "kernelspec": {
   "display_name": "Python 3",
   "language": "python",
   "name": "python3"
  },
  "language_info": {
   "codemirror_mode": {
    "name": "ipython",
    "version": 3
   },
   "file_extension": ".py",
   "mimetype": "text/x-python",
   "name": "python",
   "nbconvert_exporter": "python",
   "pygments_lexer": "ipython3",
   "version": "3.8.2"
  }
 },
 "nbformat": 4,
 "nbformat_minor": 2
}
